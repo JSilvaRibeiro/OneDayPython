{
 "cells": [
  {
   "cell_type": "markdown",
   "metadata": {},
   "source": [
    "## One Day Python Assignment\n",
    "This is the assignment intended to teach Python from the basics all the way to using Pandas Dataframes. It is not intended to be comprehensive, but rather a survey of the major topics to get the learner from point A to B.    \n",
    "   \n",
    "Part 1 will be worth 100 points and Part 2 will be worth 100 points. There will only be one assignment on Canvas worth 100 points. The final grade for this will be divided by 2 and rounded up.     \n",
    "So if you got 100 on Part 1 and 67 on Part 2, you will have 167 / 2 = 83.5. Extra credit is added onto Part 1, so, again: if you got 110 on Part 1 and 67 on Part 2, you will have 177 / 2 = 90."
   ]
  },
  {
   "cell_type": "markdown",
   "metadata": {},
   "source": [
    "### PART 1"
   ]
  },
  {
   "cell_type": "markdown",
   "metadata": {},
   "source": [
    " 1. Print “Hello World”  (2 pts)"
   ]
  },
  {
   "cell_type": "code",
   "execution_count": 42,
   "metadata": {},
   "outputs": [
    {
     "name": "stdout",
     "output_type": "stream",
     "text": [
      "Hello World\n"
     ]
    }
   ],
   "source": [
    "print(\"Hello World\")"
   ]
  },
  {
   "cell_type": "markdown",
   "metadata": {},
   "source": [
    "2.  Save your age to a variable called “age”    \n",
    "3.  Print “Hello World, I’m (age variable) today.”    (5 pts)"
   ]
  },
  {
   "cell_type": "code",
   "execution_count": 43,
   "metadata": {},
   "outputs": [
    {
     "name": "stdout",
     "output_type": "stream",
     "text": [
      "Hello World, I'm 24 today.\n"
     ]
    }
   ],
   "source": [
    "age = 24\n",
    "print(\"Hello World, I'm\", age, \"today.\")"
   ]
  },
  {
   "cell_type": "markdown",
   "metadata": {},
   "source": [
    "4. Print “hello world” in all upper case using a Python string method to alter it (4 pts)"
   ]
  },
  {
   "cell_type": "code",
   "execution_count": 44,
   "metadata": {},
   "outputs": [
    {
     "name": "stdout",
     "output_type": "stream",
     "text": [
      "HELLO WORLD\n"
     ]
    }
   ],
   "source": [
    "txt = \"hello world\"\n",
    "print(txt.upper())"
   ]
  },
  {
   "cell_type": "markdown",
   "metadata": {},
   "source": [
    " 5. Save any decimal in a variable called a.   \n",
    " Cast a into an int and save it as b.  \n",
    " Cast a into a string and save it as c.   \n",
    " Print each variable and its type.   (11 pts)"
   ]
  },
  {
   "cell_type": "code",
   "execution_count": 45,
   "metadata": {},
   "outputs": [
    {
     "name": "stdout",
     "output_type": "stream",
     "text": [
      "a = 3.14 : <class 'float'>\n",
      "b = 3 : <class 'int'>\n",
      "c = 3.14 : <class 'str'>\n"
     ]
    }
   ],
   "source": [
    "a = 3.14\n",
    "b = int(a)\n",
    "c = str(a)\n",
    "print(f\"a = {a} : {type(a)}\")\n",
    "print(f\"b = {b} : {type(b)}\")\n",
    "print(f\"c = {c} : {type(c)}\")"
   ]
  },
  {
   "cell_type": "markdown",
   "metadata": {},
   "source": [
    "6. Create a tuple of your favorite things to eat and print it.   (4 pts)"
   ]
  },
  {
   "cell_type": "code",
   "execution_count": 46,
   "metadata": {},
   "outputs": [
    {
     "name": "stdout",
     "output_type": "stream",
     "text": [
      "('Sushi', 'Pizza', 'Steak', 'Indian', 'Italian')\n"
     ]
    }
   ],
   "source": [
    "favoriteFoods = (\"Sushi\", \"Pizza\", \"Steak\", \"Indian\", \"Italian\")\n",
    "print(favoriteFoods)"
   ]
  },
  {
   "cell_type": "markdown",
   "metadata": {},
   "source": [
    "7. Create a dictionary named ‘classes’ with the name of the classes you are taking as the keys and the professors names as the values. \n",
    "Print the dictionary and tuple.   (10 pts)"
   ]
  },
  {
   "cell_type": "code",
   "execution_count": 47,
   "metadata": {},
   "outputs": [
    {
     "name": "stdout",
     "output_type": "stream",
     "text": [
      "{'Practical Aspects of Modern Cryptography': 'Dr. Mehrdad Nojoumian', 'Foundations of Cybersecurity': 'Suvosree Chatterjee', 'Principles of Programming Languages': 'Eric Lloyd', 'Engineering Design II': 'Drs. Xiangnan Zhong, Fatima Boujarwah, and Sree Ranjani Rajendran'}\n"
     ]
    }
   ],
   "source": [
    "classes = {\n",
    "    \"Practical Aspects of Modern Cryptography\": \"Dr. Mehrdad Nojoumian\",\n",
    "    \"Foundations of Cybersecurity\" : \"Suvosree Chatterjee\",\n",
    "    \"Principles of Programming Languages\" : \"Eric Lloyd\",\n",
    "    \"Engineering Design II\" : \"Drs. Xiangnan Zhong, Fatima Boujarwah, and Sree Ranjani Rajendran\"\n",
    "    }\n",
    "print(classes)"
   ]
  },
  {
   "cell_type": "markdown",
   "metadata": {},
   "source": [
    "8. Create a list called “whole” and put every number in it from 1 - 100  (10 pts)"
   ]
  },
  {
   "cell_type": "code",
   "execution_count": 48,
   "metadata": {},
   "outputs": [
    {
     "name": "stdout",
     "output_type": "stream",
     "text": [
      "[1, 2, 3, 4, 5, 6, 7, 8, 9, 10, 11, 12, 13, 14, 15, 16, 17, 18, 19, 20, 21, 22, 23, 24, 25, 26, 27, 28, 29, 30, 31, 32, 33, 34, 35, 36, 37, 38, 39, 40, 41, 42, 43, 44, 45, 46, 47, 48, 49, 50, 51, 52, 53, 54, 55, 56, 57, 58, 59, 60, 61, 62, 63, 64, 65, 66, 67, 68, 69, 70, 71, 72, 73, 74, 75, 76, 77, 78, 79, 80, 81, 82, 83, 84, 85, 86, 87, 88, 89, 90, 91, 92, 93, 94, 95, 96, 97, 98, 99, 100]\n"
     ]
    }
   ],
   "source": [
    "whole = []\n",
    "for i in range(1,101):\n",
    "    whole.append(i)\n",
    "\n",
    "print(whole)"
   ]
  },
  {
   "cell_type": "markdown",
   "metadata": {},
   "source": [
    "9. Create 4 empty lists called ‘div2’, ‘div3’, ‘div4’, and ‘div5’       \n",
    "Create a loop that examines each number from 1 to 100 and:    \n",
    " If it is divisible by 2, put it in div2   (6 pts)    \n",
    " If it is divisible by 3, put it in div3   (6 pts)     \n",
    " If it is divisible by 4, put it in div4   (6 pts)    \n",
    " If it is divisible by 5, put it in div5   (6 pts)    \n",
    " Print all 5 of these lists"
   ]
  },
  {
   "cell_type": "code",
   "execution_count": 49,
   "metadata": {},
   "outputs": [
    {
     "name": "stdout",
     "output_type": "stream",
     "text": [
      "div2 : [2, 4, 6, 8, 10, 12, 14, 16, 18, 20, 22, 24, 26, 28, 30, 32, 34, 36, 38, 40, 42, 44, 46, 48, 50, 52, 54, 56, 58, 60, 62, 64, 66, 68, 70, 72, 74, 76, 78, 80, 82, 84, 86, 88, 90, 92, 94, 96, 98, 100]\n",
      "div3 : [3, 6, 9, 12, 15, 18, 21, 24, 27, 30, 33, 36, 39, 42, 45, 48, 51, 54, 57, 60, 63, 66, 69, 72, 75, 78, 81, 84, 87, 90, 93, 96, 99]\n",
      "div4 : [4, 8, 12, 16, 20, 24, 28, 32, 36, 40, 44, 48, 52, 56, 60, 64, 68, 72, 76, 80, 84, 88, 92, 96, 100]\n",
      "div5 : [5, 10, 15, 20, 25, 30, 35, 40, 45, 50, 55, 60, 65, 70, 75, 80, 85, 90, 95, 100]\n"
     ]
    }
   ],
   "source": [
    "div2 = []\n",
    "div3 = []\n",
    "div4 = []\n",
    "div5 = []\n",
    "for i in range(1,101):\n",
    "    if i % 2 == 0:\n",
    "        div2.append(i)\n",
    "    if i % 3 == 0:\n",
    "        div3.append(i)\n",
    "    if i % 4 == 0:\n",
    "        div4.append(i)\n",
    "    if i % 5 == 0:\n",
    "        div5.append(i)\n",
    "\n",
    "print(f\"div2 : {div2}\")\n",
    "print(f\"div3 : {div3}\")\n",
    "print(f\"div4 : {div4}\")\n",
    "print(f\"div5 : {div5}\")\n",
    "\n",
    "\n"
   ]
  },
  {
   "cell_type": "markdown",
   "metadata": {},
   "source": [
    "10. Create a new list called “divOver5”   (3 pts)"
   ]
  },
  {
   "cell_type": "code",
   "execution_count": 50,
   "metadata": {},
   "outputs": [],
   "source": [
    "divOver5 = []\n"
   ]
  },
  {
   "cell_type": "markdown",
   "metadata": {},
   "source": [
    "11. Create a new loop that goes through each number 1 through 100 and appends it to divOver5 if it is NOT IN div2 or div3 or div4 or div5      \n",
    " You must use logical operators here.   \n",
    "Print divOver5   (10 points)    "
   ]
  },
  {
   "cell_type": "code",
   "execution_count": 51,
   "metadata": {},
   "outputs": [
    {
     "name": "stdout",
     "output_type": "stream",
     "text": [
      "divOver5 : [1, 7, 11, 13, 17, 19, 23, 29, 31, 37, 41, 43, 47, 49, 53, 59, 61, 67, 71, 73, 77, 79, 83, 89, 91, 97]\n"
     ]
    }
   ],
   "source": [
    "for i in range(1,101):\n",
    "    if ((i not in div2) and (i not in div3) and (i not in div4) and (i not in div5)):\n",
    "        divOver5.append(i)\n",
    "\n",
    "print(f\"divOver5 : {divOver5}\")\n",
    "        "
   ]
  },
  {
   "cell_type": "markdown",
   "metadata": {},
   "source": [
    "12. Create a function called exp3 that takes an int x, raises it to the third power.     \n",
    "Create a string in the function that says “x^3 = “ and concatenate x onto the end of the string.      \n",
    "Now return the string from the function.  Call the function exp3 and print what it returns.   (15 pts)"
   ]
  },
  {
   "cell_type": "code",
   "execution_count": 52,
   "metadata": {},
   "outputs": [
    {
     "name": "stdout",
     "output_type": "stream",
     "text": [
      "3^3 = 27\n"
     ]
    }
   ],
   "source": [
    "def exp3(x):\n",
    "    result = x**3\n",
    "    expression = f\"{x}^3 = {result}\"\n",
    "    return expression\n",
    "\n",
    "print(exp3(3))\n"
   ]
  },
  {
   "cell_type": "markdown",
   "metadata": {},
   "source": [
    "13. Iterate through the classes dictionary and print the keys    (5 pts)"
   ]
  },
  {
   "cell_type": "code",
   "execution_count": 53,
   "metadata": {},
   "outputs": [
    {
     "name": "stdout",
     "output_type": "stream",
     "text": [
      "Practical Aspects of Modern Cryptography\n",
      "Foundations of Cybersecurity\n",
      "Principles of Programming Languages\n",
      "Engineering Design II\n"
     ]
    }
   ],
   "source": [
    "for class_name in classes:\n",
    "    print(class_name)"
   ]
  },
  {
   "cell_type": "markdown",
   "metadata": {},
   "source": [
    "14. Iterate through the classes dictionary and print the values   (5 pts)"
   ]
  },
  {
   "cell_type": "code",
   "execution_count": 54,
   "metadata": {},
   "outputs": [
    {
     "name": "stdout",
     "output_type": "stream",
     "text": [
      "Dr. Mehrdad Nojoumian\n",
      "Suvosree Chatterjee\n",
      "Eric Lloyd\n",
      "Drs. Xiangnan Zhong, Fatima Boujarwah, and Sree Ranjani Rajendran\n"
     ]
    }
   ],
   "source": [
    "for class_name in classes:\n",
    "    professor_name = classes[class_name]\n",
    "    print(professor_name)"
   ]
  },
  {
   "cell_type": "markdown",
   "metadata": {},
   "source": [
    "(Worth +10 points) Extra Points:   \n",
    "Create a class called Student that has the properties:    \n",
    "\tname (holds student name)    \n",
    "\tage (holds student age)    \n",
    "\tbirthmonth (hold students birthmonth)\n",
    "\t\n",
    "\tA count variable exists that is set to 0 (see lecture) and upon each call to the class this variable increments     \n",
    "\n",
    "\t2 functions in the class:  displayName which returns the name of the student and displayBirthmonth which returns the birth month of the student    \n",
    "\n",
    "\tNow create 3 students, use whatever data you want.       \n",
    "\tCall displayName() on student1     \n",
    "\tCall displayBirthmonth() on student2    \n",
    "\tprint the student count    \n"
   ]
  },
  {
   "cell_type": "code",
   "execution_count": 55,
   "metadata": {},
   "outputs": [
    {
     "name": "stdout",
     "output_type": "stream",
     "text": [
      "Name of student1: Alice\n",
      "Birth month of student2: March\n",
      "Student count: 3\n"
     ]
    }
   ],
   "source": [
    "class student:\n",
    "    count = 0\n",
    "\n",
    "\n",
    "    def __init__(self, name, age, birthMonth):\n",
    "        student.count += 1\n",
    "        self.name = name\n",
    "        self.age = age\n",
    "        self.birthMonth = birthMonth\n",
    "    \n",
    "    def displayName(self):\n",
    "        return self.name\n",
    "    \n",
    "    def displayBirthMonth(self):\n",
    "        return self.birthMonth\n",
    "    \n",
    "\n",
    "student1 = student(\"Alice\", 20, \"January\")\n",
    "student2 = student(\"Bob\", 22, \"March\")\n",
    "student3 = student(\"Charlie\", 19, \"May\")\n",
    "\n",
    "\n",
    "print(f\"Name of student1: {student1.displayName()}\")\n",
    "print(f\"Birth month of student2: {student2.displayBirthMonth()}\")\n",
    "print(f\"Student count: {student.count}\")"
   ]
  },
  {
   "cell_type": "markdown",
   "metadata": {},
   "source": [
    "### PART 2"
   ]
  },
  {
   "cell_type": "markdown",
   "metadata": {},
   "source": [
    "This part will require you to use the film_results.txt file provided on Canvas. You will also need to import NumPy and Pandas."
   ]
  },
  {
   "cell_type": "markdown",
   "metadata": {},
   "source": [
    "1. Move the film_results.txt file from Blackboard into your project directory.     \n",
    " Create 3 lists, one for states, one for shows, and one for viewers.     \n",
    " Ingest data from text file and put it into a NumPy array (show_results.txt)      \n",
    "\tItll look like a nested list.       \n",
    "          [ [‘Oregon’, ‘Once Upon a Time’, ‘4075’] [...] …]     \n",
    " Print the raw data   (10 pts)    "
   ]
  },
  {
   "cell_type": "code",
   "execution_count": 56,
   "metadata": {},
   "outputs": [
    {
     "name": "stdout",
     "output_type": "stream",
     "text": [
      "Raw Data:\n",
      "[['Oregon' 'Once Upon a Time' '4075']\n",
      " ['Washington' 'Vikings' '3739']\n",
      " ['Washington' 'Game of Thrones' '3997']\n",
      " ['Nevada' 'Vikings' '1682']\n",
      " ['Washington' 'Game of Thrones' '8983']\n",
      " ['Washington' 'Vikings' '145']\n",
      " ['Idaho' 'Daredevil' '2663']\n",
      " ['California' 'Game of Thrones' '6361']\n",
      " ['Idaho' 'Game of Thrones' '6788']\n",
      " ['Idaho' 'The Flash' '3064']\n",
      " ['Oregon' 'Gotham' '9389']\n",
      " ['Washington' 'The Walking Dead' '4301']\n",
      " ['Nevada' 'Game of Thrones' '7328']\n",
      " ['California' 'The Flash' '9003']\n",
      " ['Nevada' 'Gotham' '8575']\n",
      " ['Idaho' 'Suits' '3239']\n",
      " ['Idaho' 'Gotham' '6695']\n",
      " ['Nevada' 'The Flash' '594']\n",
      " ['Nevada' 'The Flash' '3793']\n",
      " ['Nevada' 'Suits' '8544']\n",
      " ['California' 'Vikings' '1059']\n",
      " ['Nevada' 'Daredevil' '8200']\n",
      " ['California' 'Daredevil' '1856']\n",
      " ['Washington' 'Suits' '2871']\n",
      " ['Washington' 'Better Call Saul' '9574']\n",
      " ['Idaho' 'Vikings' '5218']\n",
      " ['Idaho' 'The Walking Dead' '6256']\n",
      " ['Nevada' 'Vikings' '8581']\n",
      " ['Oregon' 'Game of Thrones' '2460']\n",
      " ['Washington' 'Vikings' '728']\n",
      " ['Oregon' 'Vikings' '7495']\n",
      " ['Oregon' 'The Flash' '2103']\n",
      " ['Idaho' 'Better Call Saul' '8179']\n",
      " ['Oregon' 'Orange is the New Black' '1144']\n",
      " ['Nevada' 'Vikings' '7514']\n",
      " ['Washington' 'The Flash' '271']\n",
      " ['California' 'The Walking Dead' '4353']\n",
      " ['Nevada' 'Game of Thrones' '7647']\n",
      " ['California' 'Suits' '3408']\n",
      " ['Oregon' 'The Flash' '8443']\n",
      " ['Washington' 'Better Call Saul' '1970']\n",
      " ['Oregon' 'Vikings' '1711']\n",
      " ['Nevada' 'The Walking Dead' '825']\n",
      " ['Oregon' 'Better Call Saul' '7875']\n",
      " ['Idaho' 'Suits' '1333']\n",
      " ['California' 'Once Upon a Time' '9753']\n",
      " ['Nevada' 'Daredevil' '4233']\n",
      " ['Nevada' 'Orange is the New Black' '1349']\n",
      " ['California' 'Gotham' '1473']\n",
      " ['Idaho' 'Gotham' '4176']\n",
      " ['California' 'Suits' '2193']\n",
      " ['Oregon' 'Gotham' '8477']\n",
      " ['Washington' 'Gotham' '6834']\n",
      " ['Oregon' 'Suits' '2569']\n",
      " ['Oregon' 'Gotham' '8284']\n",
      " ['Oregon' 'The Flash' '4729']\n",
      " ['Washington' 'Game of Thrones' '4988']\n",
      " ['California' 'Game of Thrones' '1177']\n",
      " ['Nevada' 'Vikings' '9210']\n",
      " ['Oregon' 'Daredevil' '6374']\n",
      " ['Idaho' 'The Flash' '9114']\n",
      " ['California' 'Suits' '9049']\n",
      " ['Nevada' 'Once Upon a Time' '6639']\n",
      " ['Idaho' 'Orange is the New Black' '5225']\n",
      " ['Washington' 'The Flash' '4988']\n",
      " ['Washington' 'Once Upon a Time' '2103']\n",
      " ['Oregon' 'Suits' '6207']\n",
      " ['Nevada' 'Vikings' '6859']\n",
      " ['California' 'Suits' '1314']\n",
      " ['Idaho' 'The Flash' '6491']\n",
      " ['Nevada' 'Game of Thrones' '5764']\n",
      " ['Nevada' 'Daredevil' '960']\n",
      " ['Nevada' 'Game of Thrones' '5205']\n",
      " ['Washington' 'Daredevil' '2241']\n",
      " ['Idaho' 'Once Upon a Time' '6930']\n",
      " ['Washington' 'Orange is the New Black' '3699']\n",
      " ['Oregon' 'The Walking Dead' '8447']\n",
      " ['Washington' 'Better Call Saul' '3784']\n",
      " ['Nevada' 'Game of Thrones' '9469']\n",
      " ['California' 'Daredevil' '4746']\n",
      " ['California' 'Better Call Saul' '8430']\n",
      " ['Idaho' 'Game of Thrones' '742']\n",
      " ['Oregon' 'Better Call Saul' '9322']\n",
      " ['California' 'The Flash' '3254']\n",
      " ['Oregon' 'The Flash' '5103']\n",
      " ['California' 'Orange is the New Black' '7291']\n",
      " ['Oregon' 'The Flash' '8395']\n",
      " ['California' 'Daredevil' '7304']\n",
      " ['Nevada' 'Suits' '2707']\n",
      " ['Washington' 'Game of Thrones' '2547']\n",
      " ['Nevada' 'Daredevil' '5555']\n",
      " ['Oregon' 'Gotham' '6505']\n",
      " ['Idaho' 'Daredevil' '1817']\n",
      " ['Nevada' 'Better Call Saul' '7268']\n",
      " ['Nevada' 'Vikings' '8161']\n",
      " ['California' 'Game of Thrones' '517']\n",
      " ['Oregon' 'Daredevil' '2439']\n",
      " ['California' 'Game of Thrones' '7332']\n",
      " ['Oregon' 'Daredevil' '6149']]\n"
     ]
    }
   ],
   "source": [
    "import numpy as np\n",
    "import pandas as pd\n",
    "\n",
    "states = []\n",
    "shows = []\n",
    "viewers = []\n",
    "\n",
    "with open(\"film_results.txt\", \"r\") as file:\n",
    "    for line in file:\n",
    "        data = line.strip().split(\",\")\n",
    "        states.append(data[0])\n",
    "        shows.append(data[1])\n",
    "        viewers.append(int(data[2]))\n",
    "\n",
    "data_nested_list = list(zip(states, shows, viewers))\n",
    "\n",
    "data_array = np.array(data_nested_list)\n",
    "\n",
    "print(\"Raw Data:\")\n",
    "print(data_array)\n"
   ]
  },
  {
   "cell_type": "markdown",
   "metadata": {},
   "source": [
    "2.  Take the data from the NumPy array and sort it by state, show and viewers, putting each into the appropriate lists you defined earlier.  (so now you have 3 lists, one with states, one with shows and one with viewer counts.)  No duplicates in the states and shows.  Duplicates can and should exist in the viewers.      \n",
    "So the states list will look like this: ['Washington', 'Nevada', 'Idaho', 'California', 'Oregon']      \n",
    " Print these unsorted lists    (5 pts)"
   ]
  },
  {
   "cell_type": "code",
   "execution_count": 57,
   "metadata": {},
   "outputs": [
    {
     "name": "stdout",
     "output_type": "stream",
     "text": [
      "Unsorted Lists:\n",
      "States: ['Idaho', 'Washington', 'California', 'Nevada', 'Oregon']\n",
      "Shows: ['Daredevil', 'Once Upon a Time', 'Suits', 'Game of Thrones', 'The Walking Dead', 'Better Call Saul', 'Orange is the New Black', 'Gotham', 'The Flash', 'Vikings']\n",
      "Viewers: [4075, 3739, 3997, 1682, 8983, 145, 2663, 6361, 6788, 3064, 9389, 4301, 7328, 9003, 8575, 3239, 6695, 594, 3793, 8544, 1059, 8200, 1856, 2871, 9574, 5218, 6256, 8581, 2460, 728, 7495, 2103, 8179, 1144, 7514, 271, 4353, 7647, 3408, 8443, 1970, 1711, 825, 7875, 1333, 9753, 4233, 1349, 1473, 4176, 2193, 8477, 6834, 2569, 8284, 4729, 4988, 1177, 9210, 6374, 9114, 9049, 6639, 5225, 4988, 2103, 6207, 6859, 1314, 6491, 5764, 960, 5205, 2241, 6930, 3699, 8447, 3784, 9469, 4746, 8430, 742, 9322, 3254, 5103, 7291, 8395, 7304, 2707, 2547, 5555, 6505, 1817, 7268, 8161, 517, 2439, 7332, 6149]\n"
     ]
    }
   ],
   "source": [
    "states = list(set(states))\n",
    "shows = list(set(shows))\n",
    "\n",
    "\n",
    "print(\"Unsorted Lists:\")\n",
    "print(\"States:\", states)\n",
    "print(\"Shows:\", shows)\n",
    "print(\"Viewers:\", viewers)"
   ]
  },
  {
   "cell_type": "markdown",
   "metadata": {},
   "source": [
    "3. Convert all 3 lists into NumPy arrays     \n",
    " print new NumPy Arrays    (10 pts)"
   ]
  },
  {
   "cell_type": "code",
   "execution_count": 58,
   "metadata": {},
   "outputs": [
    {
     "name": "stdout",
     "output_type": "stream",
     "text": [
      "NumPy Arrays:\n",
      "States Array: ['Idaho' 'Washington' 'California' 'Nevada' 'Oregon']\n",
      "Shows Array: ['Daredevil' 'Once Upon a Time' 'Suits' 'Game of Thrones'\n",
      " 'The Walking Dead' 'Better Call Saul' 'Orange is the New Black' 'Gotham'\n",
      " 'The Flash' 'Vikings']\n",
      "Viewers Array: [4075 3739 3997 1682 8983  145 2663 6361 6788 3064 9389 4301 7328 9003\n",
      " 8575 3239 6695  594 3793 8544 1059 8200 1856 2871 9574 5218 6256 8581\n",
      " 2460  728 7495 2103 8179 1144 7514  271 4353 7647 3408 8443 1970 1711\n",
      "  825 7875 1333 9753 4233 1349 1473 4176 2193 8477 6834 2569 8284 4729\n",
      " 4988 1177 9210 6374 9114 9049 6639 5225 4988 2103 6207 6859 1314 6491\n",
      " 5764  960 5205 2241 6930 3699 8447 3784 9469 4746 8430  742 9322 3254\n",
      " 5103 7291 8395 7304 2707 2547 5555 6505 1817 7268 8161  517 2439 7332\n",
      " 6149]\n"
     ]
    }
   ],
   "source": [
    "\n",
    "states_array = np.array(states)\n",
    "shows_array = np.array(shows)\n",
    "viewers_array = np.array(viewers)\n",
    "\n",
    "\n",
    "print(\"NumPy Arrays:\")\n",
    "print(\"States Array:\", states_array)\n",
    "print(\"Shows Array:\", shows_array)\n",
    "print(\"Viewers Array:\", viewers_array)"
   ]
  },
  {
   "cell_type": "markdown",
   "metadata": {},
   "source": [
    "4. Sort the States and Shows arrays      \n",
    "\tNow your States array will look like:      \n",
    "\t['California', 'Idaho', 'Nevada', 'Oregon', 'Washington']      \n",
    "Convert the Viewers array from STRINGS into INTS      \n",
    "Sum up viewers list into one variable (you can do this in one line)       \n",
    "Print: Sorted arrays (states and shows), viewers list (as ints), and the variable that is the sum of the viewers list.        (30 pts)"
   ]
  },
  {
   "cell_type": "code",
   "execution_count": 59,
   "metadata": {},
   "outputs": [
    {
     "name": "stdout",
     "output_type": "stream",
     "text": [
      "Sorted Arrays:\n",
      "Sorted States Array: ['California' 'Idaho' 'Nevada' 'Oregon' 'Washington']\n",
      "Sorted Shows Array: ['Better Call Saul' 'Daredevil' 'Game of Thrones' 'Gotham'\n",
      " 'Once Upon a Time' 'Orange is the New Black' 'Suits' 'The Flash'\n",
      " 'The Walking Dead' 'Vikings']\n",
      "Viewers List (as ints): [4075 3739 3997 1682 8983  145 2663 6361 6788 3064 9389 4301 7328 9003\n",
      " 8575 3239 6695  594 3793 8544 1059 8200 1856 2871 9574 5218 6256 8581\n",
      " 2460  728 7495 2103 8179 1144 7514  271 4353 7647 3408 8443 1970 1711\n",
      "  825 7875 1333 9753 4233 1349 1473 4176 2193 8477 6834 2569 8284 4729\n",
      " 4988 1177 9210 6374 9114 9049 6639 5225 4988 2103 6207 6859 1314 6491\n",
      " 5764  960 5205 2241 6930 3699 8447 3784 9469 4746 8430  742 9322 3254\n",
      " 5103 7291 8395 7304 2707 2547 5555 6505 1817 7268 8161  517 2439 7332\n",
      " 6149]\n",
      "Total Viewers: 499923\n"
     ]
    }
   ],
   "source": [
    "sorted_states_array = np.sort(states_array)\n",
    "sorted_shows_array = np.sort(shows_array)\n",
    "\n",
    "viewers_array = viewers_array.astype(int)\n",
    "\n",
    "total_viewers = np.sum(viewers_array)\n",
    "\n",
    "print(\"Sorted Arrays:\")\n",
    "print(\"Sorted States Array:\", sorted_states_array)\n",
    "print(\"Sorted Shows Array:\", sorted_shows_array)\n",
    "print(\"Viewers List (as ints):\", viewers_array)\n",
    "print(\"Total Viewers:\", total_viewers)"
   ]
  },
  {
   "cell_type": "markdown",
   "metadata": {},
   "source": [
    "5. Create 2 DataFrames:      \n",
    "show_raw_stats: index = numpy sorted array of SHOWS; columns = numpy sorted array of STATES      \n",
    "show_agg_stats: index = same as above; columns= a list with the words Max, Min, Totals and Percent in it (like this… [‘Max’,’Min’,’Totals’, ‘Percent’]        \n",
    "Populate show_raw_stats with data from the Original Array ingested from film_results.txt. \n",
    "Populate the Max, Min, Totals, and Percent in show_agg_stats using the DataFrame native functionality    \n",
    "Print both dataframe   (30 pts)     \n",
    "\n",
    "HINT:  You will need to create a loop here that basically goes the length of the original array, and on each iteration, it grabs the STATE, SHOW, and VIEWERS number (itll be a string so youll have to convert it…).    \n",
    "The final step of each iteration will be placing it in the dataframe in the correct spot as an accumulation. +=      (Otherwise you just writing over the value there)     \n"
   ]
  },
  {
   "cell_type": "code",
   "execution_count": 61,
   "metadata": {},
   "outputs": [
    {
     "name": "stdout",
     "output_type": "stream",
     "text": [
      "show_raw_stats:\n",
      "                        California Idaho Nevada Oregon Washington\n",
      "Better Call Saul              8430  8179   7268   9322       3784\n",
      "Daredevil                     7304  1817   5555   6149       2241\n",
      "Game of Thrones               7332   742   9469   2460       2547\n",
      "Gotham                        1473  4176   8575   6505       6834\n",
      "Once Upon a Time              9753  6930   6639   4075       2103\n",
      "Orange is the New Black       7291  5225   1349   1144       3699\n",
      "Suits                         1314  1333   2707   6207       2871\n",
      "The Flash                     3254  6491   3793   8395       4988\n",
      "The Walking Dead              4353  6256    825   8447       4301\n",
      "Vikings                       1059  5218   8161   1711        728\n",
      "\n",
      "show_agg_stats:\n",
      "                          Max   Min Totals    Percent\n",
      "Better Call Saul         9322  3784  36983  15.359537\n",
      "Daredevil                7304  1817  23066    9.57962\n",
      "Game of Thrones          9469   742  22550   9.365318\n",
      "Gotham                   8575  1473  27563  11.447284\n",
      "Once Upon a Time         9753  2103  29500  12.251746\n",
      "Orange is the New Black  7291  1144  18708   7.769684\n",
      "Suits                    6207  1314  14432   5.993804\n",
      "The Flash                8395  3254  26921  11.180653\n",
      "The Walking Dead         8447   825  24182   10.04311\n",
      "Vikings                  8161   728  16877   7.009245\n"
     ]
    }
   ],
   "source": [
    "show_raw_stats = pd.DataFrame(index=sorted_shows_array, columns=sorted_states_array)\n",
    "\n",
    "for i in range(len(data_array)):\n",
    "    state = data_array[i][0]\n",
    "    show = data_array[i][1]\n",
    "    viewers = int(data_array[i][2])\n",
    "    show_raw_stats.loc[show, state] = viewers\n",
    "\n",
    "show_agg_stats = pd.DataFrame(index=sorted_shows_array, columns=['Max', 'Min', 'Totals', 'Percent'])\n",
    "\n",
    "for show in sorted_shows_array:\n",
    "    viewers_data = show_raw_stats.loc[show].dropna()\n",
    "    max_viewers = viewers_data.max()\n",
    "    min_viewers = viewers_data.min()\n",
    "    total_viewers = viewers_data.sum()\n",
    "    percent_viewers = (total_viewers / show_raw_stats.sum().sum()) * 100 \n",
    "    \n",
    "    show_agg_stats.loc[show] = [max_viewers, min_viewers, total_viewers, percent_viewers]\n",
    "\n",
    "\n",
    "print(\"show_raw_stats:\")\n",
    "print(show_raw_stats)\n",
    "print(\"\\nshow_agg_stats:\")\n",
    "print(show_agg_stats)"
   ]
  },
  {
   "cell_type": "markdown",
   "metadata": {},
   "source": [
    "6. Print the answer to these questions in a Markdown cell, do not print them with Python:        \n",
    "Which Show has the highest percentage?   (5 pts)      \n",
    "Which Show has the lowest percentage?    (5 pts)     \n",
    "Which show is your favorite?             (5 pts)     "
   ]
  },
  {
   "cell_type": "markdown",
   "metadata": {},
   "source": [
    "Which show has the highest percentage? Better Call Saul\n",
    "Whcih show has the lowest percentage? Suits\n",
    "Whcih show is your favorite? Definitely Better Call Saul, Game of thrones comes in close second though."
   ]
  },
  {
   "cell_type": "markdown",
   "metadata": {},
   "source": [
    "### Please try to follow the directions as closely as possible.  You might think of better ways to implement this, with less lines of code the skips steps and thats great, but not for this assignment.  If you do think of these, put them in comments and extra points will be given for those but follow these steps."
   ]
  },
  {
   "cell_type": "markdown",
   "metadata": {},
   "source": []
  }
 ],
 "metadata": {
  "kernelspec": {
   "display_name": "base",
   "language": "python",
   "name": "python3"
  },
  "language_info": {
   "codemirror_mode": {
    "name": "ipython",
    "version": 3
   },
   "file_extension": ".py",
   "mimetype": "text/x-python",
   "name": "python",
   "nbconvert_exporter": "python",
   "pygments_lexer": "ipython3",
   "version": "3.12.1"
  }
 },
 "nbformat": 4,
 "nbformat_minor": 2
}
